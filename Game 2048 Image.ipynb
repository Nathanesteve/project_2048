{
 "cells": [
  {
   "cell_type": "code",
   "execution_count": null,
   "metadata": {},
   "outputs": [],
   "source": [
    "import numpy as np\n",
    "import matplotlib.pyplot as plt\n",
    "\n",
    " # with val=(0, 2, 4, 8, 16, 32, 64, 128, 256, 512, 1024, 2048)\n",
    "a = plt.imread(\"2.png\")\n",
    "b = plt.imread(\"4.png\")\n",
    "c = plt.imread(\"8.png\")\n",
    "d = plt.imread(\"16.png\")\n",
    "e = plt.imread(\"32.png\")\n",
    "f = plt.imread(\"64.png\")\n",
    "g = plt.imread(\"128.png\")\n",
    "h = plt.imread(\"256.png\")\n",
    "i = plt.imread(\"512.png\")\n",
    "j = plt.imread(\"1024.png\")\n",
    "k = plt.imread(\"2048.png\")\n",
    "l = plt.imread(\"0.png\")\n",
    " \n",
    "if grid_game[0][0]==0:\n",
    "        plt.subplot(441)\n",
    "        plt.imshow(l)\n",
    "elif grid_game[0][0]==2:\n",
    "        plt.subplot(441)\n",
    "        plt.imshow(a)\n",
    "elif grid_game[0][0]==4:\n",
    "        plt.subplot(441)\n",
    "        plt.imshow(b)\n",
    "elif grid_game[0][0]==8:\n",
    "        plt.subplot(441)\n",
    "        plt.imshow(c)\n",
    "elif grid_game[0][0]==16:\n",
    "        plt.subplot(441)\n",
    "        plt.imshow(d)\n",
    "elif grid_game[0][0]==32:\n",
    "        plt.subplot(441) \n",
    "        plt.imshow(e) \n",
    "elif grid_game[0][0]==64:\n",
    "        plt.subplot(441)\n",
    "        plt.imshow(f)\n",
    "elif grid_game[0][0]==128:\n",
    "        plt.subplot(441)\n",
    "        plt.imshow(g)\n",
    "elif grid_game[0][0]==256:\n",
    "        plt.subplot(441)\n",
    "        plt.imshow(h)\n",
    "elif grid_game[0][0]==512:\n",
    "        plt.subplot(441)\n",
    "        plt.imshow(i)\n",
    "elif grid_game[0][0]==1024:\n",
    "        plt.subplot(441)\n",
    "        plt.imshow(j)\n",
    "elif grid_game[0][0]==2048:\n",
    "        plt.subplot(441)\n",
    "        plt.imshow(k)\n",
    "\n"
   ]
  }
 ],
 "metadata": {
  "kernelspec": {
   "display_name": "Python 3",
   "language": "python",
   "name": "python3"
  },
  "language_info": {
   "codemirror_mode": {
    "name": "ipython",
    "version": 3
   },
   "file_extension": ".py",
   "mimetype": "text/x-python",
   "name": "python",
   "nbconvert_exporter": "python",
   "pygments_lexer": "ipython3",
   "version": "3.8.3"
  }
 },
 "nbformat": 4,
 "nbformat_minor": 4
}
