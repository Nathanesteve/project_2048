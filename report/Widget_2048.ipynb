{
 "cells": [
  {
   "cell_type": "code",
   "execution_count": 1,
   "metadata": {},
   "outputs": [],
   "source": [
    "import numpy as np\n",
    "import matplotlib.pyplot as plt\n",
    "import seaborn as sns\n",
    "import ipywidgets as widgets\n",
    "%matplotlib widget\n",
    "\n",
    "\n",
    "\n"
   ]
  },
  {
   "cell_type": "code",
   "execution_count": 2,
   "metadata": {},
   "outputs": [],
   "source": [
    "data_score_random = np.loadtxt('Storage_AI_score_random.txt')\n",
    "data_score_clockwise = np.loadtxt('Storage_AI_score_clockwise.txt')\n",
    "random_color = '#8A2BE2'\n",
    "clockwise_color = '#FF8C00'"
   ]
  },
  {
   "cell_type": "code",
   "execution_count": 3,
   "metadata": {},
   "outputs": [
    {
     "output_type": "display_data",
     "data": {
      "text/plain": "interactive(children=(FloatSlider(value=0.1, description='w', max=1.0, min=0.1), Output()), _dom_classes=('wid…",
      "application/vnd.jupyter.widget-view+json": {
       "version_major": 2,
       "version_minor": 0,
       "model_id": "96dd0194d042435c8ff51fd33abaf8d0"
      }
     },
     "metadata": {}
    }
   ],
   "source": [
    "@widgets.interact(w=(0.10, 1, 0.10))\n",
    "def update(w = 0.10):\n",
    "        \n",
    "    sns.kdeplot(data_score_random, bw_adjust=w, legend=True, color=random_color)\n",
    "    sns.kdeplot(data_score_clockwise, bw_adjust=w, legend=True, color=clockwise_color)\n",
    "    plt.legend(labels=['Random strategie','Clockwise strategie'])\n",
    "    plt.title(\"Distribution of score with random et clockwise strategies\")\n",
    "    plt.xlabel(\"score\")\n",
    "    plt.ylim(0, 0.0013)\n",
    "    plt.xlim(0,5000)"
   ]
  },
  {
   "cell_type": "code",
   "execution_count": 21,
   "metadata": {},
   "outputs": [
    {
     "output_type": "execute_result",
     "data": {
      "text/plain": [
       "<__main__.widget2048 at 0x23237fd76d0>"
      ]
     },
     "metadata": {},
     "execution_count": 21
    }
   ],
   "source": []
  },
  {
   "cell_type": "code",
   "execution_count": null,
   "metadata": {},
   "outputs": [],
   "source": []
  }
 ],
 "metadata": {
  "kernelspec": {
   "name": "python385jvsc74a57bd0f80d8b31525b6ea3adcf22249f5b1a58cdfe6d9f8b553721dcb1dc5ebfc8b9f9",
   "display_name": "Python 3.8.5 64-bit (conda)"
  },
  "language_info": {
   "codemirror_mode": {
    "name": "ipython",
    "version": 3
   },
   "file_extension": ".py",
   "mimetype": "text/x-python",
   "name": "python",
   "nbconvert_exporter": "python",
   "pygments_lexer": "ipython3",
   "version": "3.8.5"
  }
 },
 "nbformat": 4,
 "nbformat_minor": 4
}